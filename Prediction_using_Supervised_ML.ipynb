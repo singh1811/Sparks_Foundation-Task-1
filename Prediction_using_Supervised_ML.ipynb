{
  "nbformat": 4,
  "nbformat_minor": 0,
  "metadata": {
    "colab": {
      "name": "Prediction using Supervised ML.ipynb",
      "provenance": [],
      "authorship_tag": "ABX9TyMuayFxjmnV9jpbMrfygKVP",
      "include_colab_link": true
    },
    "kernelspec": {
      "name": "python3",
      "display_name": "Python 3"
    },
    "language_info": {
      "name": "python"
    }
  },
  "cells": [
    {
      "cell_type": "markdown",
      "metadata": {
        "id": "view-in-github",
        "colab_type": "text"
      },
      "source": [
        "<a href=\"https://colab.research.google.com/github/singh1811/Sparks_Foundation-Task-1/blob/main/Prediction_using_Supervised_ML.ipynb\" target=\"_parent\"><img src=\"https://colab.research.google.com/assets/colab-badge.svg\" alt=\"Open In Colab\"/></a>"
      ]
    },
    {
      "cell_type": "markdown",
      "metadata": {
        "id": "CxZbZ4agfylu"
      },
      "source": [
        "# **NAME**: VISHAKHA SINGH"
      ]
    },
    {
      "cell_type": "markdown",
      "metadata": {
        "id": "BKnVsjIRr-pC"
      },
      "source": [
        "# Task -1 : Prediction using Supervised ML"
      ]
    },
    {
      "cell_type": "markdown",
      "metadata": {
        "id": "cIh-ziy7fyaP"
      },
      "source": [
        "In this task we have to  predict the percentage of marks that a student is expected to score based upon the number of hours they studied. "
      ]
    },
    {
      "cell_type": "markdown",
      "metadata": {
        "id": "XrAxFdHofyOu"
      },
      "source": [
        "#Importing basic Libraries"
      ]
    },
    {
      "cell_type": "code",
      "metadata": {
        "id": "U405GMJPfUsX"
      },
      "source": [
        "import numpy as np\n",
        "import pandas as pd\n",
        "import matplotlib.pyplot as plt"
      ],
      "execution_count": 1,
      "outputs": []
    },
    {
      "cell_type": "markdown",
      "metadata": {
        "id": "LXU-m69fgM5k"
      },
      "source": [
        "# Loading dataset"
      ]
    },
    {
      "cell_type": "code",
      "metadata": {
        "colab": {
          "base_uri": "https://localhost:8080/",
          "height": 357
        },
        "id": "G37ioF5tGyrK",
        "outputId": "64175dea-81a9-49a5-bc09-f64298ed4100"
      },
      "source": [
        "link='http://bit.ly/w-data'\n",
        "data=pd.read_csv(link)\n",
        "data.head(10)"
      ],
      "execution_count": 2,
      "outputs": [
        {
          "output_type": "execute_result",
          "data": {
            "text/html": [
              "<div>\n",
              "<style scoped>\n",
              "    .dataframe tbody tr th:only-of-type {\n",
              "        vertical-align: middle;\n",
              "    }\n",
              "\n",
              "    .dataframe tbody tr th {\n",
              "        vertical-align: top;\n",
              "    }\n",
              "\n",
              "    .dataframe thead th {\n",
              "        text-align: right;\n",
              "    }\n",
              "</style>\n",
              "<table border=\"1\" class=\"dataframe\">\n",
              "  <thead>\n",
              "    <tr style=\"text-align: right;\">\n",
              "      <th></th>\n",
              "      <th>Hours</th>\n",
              "      <th>Scores</th>\n",
              "    </tr>\n",
              "  </thead>\n",
              "  <tbody>\n",
              "    <tr>\n",
              "      <th>0</th>\n",
              "      <td>2.5</td>\n",
              "      <td>21</td>\n",
              "    </tr>\n",
              "    <tr>\n",
              "      <th>1</th>\n",
              "      <td>5.1</td>\n",
              "      <td>47</td>\n",
              "    </tr>\n",
              "    <tr>\n",
              "      <th>2</th>\n",
              "      <td>3.2</td>\n",
              "      <td>27</td>\n",
              "    </tr>\n",
              "    <tr>\n",
              "      <th>3</th>\n",
              "      <td>8.5</td>\n",
              "      <td>75</td>\n",
              "    </tr>\n",
              "    <tr>\n",
              "      <th>4</th>\n",
              "      <td>3.5</td>\n",
              "      <td>30</td>\n",
              "    </tr>\n",
              "    <tr>\n",
              "      <th>5</th>\n",
              "      <td>1.5</td>\n",
              "      <td>20</td>\n",
              "    </tr>\n",
              "    <tr>\n",
              "      <th>6</th>\n",
              "      <td>9.2</td>\n",
              "      <td>88</td>\n",
              "    </tr>\n",
              "    <tr>\n",
              "      <th>7</th>\n",
              "      <td>5.5</td>\n",
              "      <td>60</td>\n",
              "    </tr>\n",
              "    <tr>\n",
              "      <th>8</th>\n",
              "      <td>8.3</td>\n",
              "      <td>81</td>\n",
              "    </tr>\n",
              "    <tr>\n",
              "      <th>9</th>\n",
              "      <td>2.7</td>\n",
              "      <td>25</td>\n",
              "    </tr>\n",
              "  </tbody>\n",
              "</table>\n",
              "</div>"
            ],
            "text/plain": [
              "   Hours  Scores\n",
              "0    2.5      21\n",
              "1    5.1      47\n",
              "2    3.2      27\n",
              "3    8.5      75\n",
              "4    3.5      30\n",
              "5    1.5      20\n",
              "6    9.2      88\n",
              "7    5.5      60\n",
              "8    8.3      81\n",
              "9    2.7      25"
            ]
          },
          "metadata": {
            "tags": []
          },
          "execution_count": 2
        }
      ]
    },
    {
      "cell_type": "markdown",
      "metadata": {
        "id": "eW847Fwsgc7f"
      },
      "source": [
        "Plotting dataset in order to find any relation between them"
      ]
    },
    {
      "cell_type": "code",
      "metadata": {
        "colab": {
          "base_uri": "https://localhost:8080/",
          "height": 296
        },
        "id": "UwE3dBjIG1dt",
        "outputId": "55431770-a84e-4c92-84b4-20aedc36fef6"
      },
      "source": [
        "data.plot(x=\"Hours\", y=\"Scores\", style=\"o\")\n",
        "plt.title(\"Study_Hours vs Percentage_Score\")\n",
        "plt.xlabel(\"Study_Hours\")\n",
        "plt.ylabel(\"Percentage_Score\")\n",
        "plt.show()"
      ],
      "execution_count": 3,
      "outputs": [
        {
          "output_type": "display_data",
          "data": {
            "image/png": "[encoded data removed]",
            "text/plain": [
              "<Figure size 432x288 with 1 Axes>"
            ]
          },
          "metadata": {
            "tags": [],
            "needs_background": "light"
          }
        }
      ]
    },
    {
      "cell_type": "markdown",
      "metadata": {
        "id": "_KTCgACIhGdk"
      },
      "source": [
        "# Segregating dataset into X (Attributes) and Y(Labels)"
      ]
    },
    {
      "cell_type": "code",
      "metadata": {
        "colab": {
          "base_uri": "https://localhost:8080/"
        },
        "id": "Oscqt2WxG9B5",
        "outputId": "dda927d1-c286-479a-b1fa-704d005ad854"
      },
      "source": [
        "X=data.iloc[:,:-1].values\n",
        "X\n",
        "Y=data.iloc[:,1].values\n",
        "Y"
      ],
      "execution_count": 4,
      "outputs": [
        {
          "output_type": "execute_result",
          "data": {
            "text/plain": [
              "array([21, 47, 27, 75, 30, 20, 88, 60, 81, 25, 85, 62, 41, 42, 17, 95, 30,\n",
              "       24, 67, 69, 30, 54, 35, 76, 86])"
            ]
          },
          "metadata": {
            "tags": []
          },
          "execution_count": 4
        }
      ]
    },
    {
      "cell_type": "markdown",
      "metadata": {
        "id": "iKMw-ZWrf4Md"
      },
      "source": [
        "# Splitting dataset into train and test"
      ]
    },
    {
      "cell_type": "code",
      "metadata": {
        "colab": {
          "base_uri": "https://localhost:8080/"
        },
        "id": "kLTRVdf-G5Tz",
        "outputId": "2f161efb-150e-488d-bf20-7f5af0780200"
      },
      "source": [
        "from sklearn.model_selection import train_test_split\n",
        "X_train,X_test,Y_train,Y_test=train_test_split(X,Y,test_size=0.25,random_state=0)\n",
        "print('X_train ',X_train.shape)\n",
        "print('X_test',X_test.shape)"
      ],
      "execution_count": 5,
      "outputs": [
        {
          "output_type": "stream",
          "text": [
            "X_train  (18, 1)\n",
            "X_test (7, 1)\n"
          ],
          "name": "stdout"
        }
      ]
    },
    {
      "cell_type": "markdown",
      "metadata": {
        "id": "nTCvkL2nhwZ1"
      },
      "source": [
        "# Training our Model"
      ]
    },
    {
      "cell_type": "code",
      "metadata": {
        "colab": {
          "base_uri": "https://localhost:8080/"
        },
        "id": "yv2DgpTqhwDD",
        "outputId": "a88ad9a8-5219-4008-aaf2-c31f8a0eec60"
      },
      "source": [
        "from sklearn.linear_model import LinearRegression\n",
        "model=LinearRegression()\n",
        "model.fit(X_train,Y_train)\n",
        "print(\"Training is Complete\")"
      ],
      "execution_count": 6,
      "outputs": [
        {
          "output_type": "stream",
          "text": [
            "Training is Complete\n"
          ],
          "name": "stdout"
        }
      ]
    },
    {
      "cell_type": "code",
      "metadata": {
        "colab": {
          "base_uri": "https://localhost:8080/",
          "height": 265
        },
        "id": "RZICutX7HF7H",
        "outputId": "7e7237c0-cd25-419c-8322-4654eff2d8cd"
      },
      "source": [
        "#plotting regression line\n",
        "line=model.coef_*X+model.intercept_\n",
        "plt.scatter(X,Y)\n",
        "plt.plot(X,line)\n",
        "plt.show()"
      ],
      "execution_count": 7,
      "outputs": [
        {
          "output_type": "display_data",
          "data": {
            "image/png": "[encoded data removed]",
            "text/plain": [
              "<Figure size 432x288 with 1 Axes>"
            ]
          },
          "metadata": {
            "tags": [],
            "needs_background": "light"
          }
        }
      ]
    },
    {
      "cell_type": "markdown",
      "metadata": {
        "id": "Z8PjptjMiBft"
      },
      "source": [
        "# Prediction"
      ]
    },
    {
      "cell_type": "code",
      "metadata": {
        "colab": {
          "base_uri": "https://localhost:8080/"
        },
        "id": "z0tj0nmDHKBU",
        "outputId": "4293f254-6fcd-47eb-9a1b-b4e3506bb351"
      },
      "source": [
        "print(X_test) # Testing data - In Hours\n",
        "pred = model.predict(X_test) # Predicting the scores"
      ],
      "execution_count": 8,
      "outputs": [
        {
          "output_type": "stream",
          "text": [
            "[[1.5]\n",
            " [3.2]\n",
            " [7.4]\n",
            " [2.5]\n",
            " [5.9]\n",
            " [3.8]\n",
            " [1.9]]\n"
          ],
          "name": "stdout"
        }
      ]
    },
    {
      "cell_type": "code",
      "metadata": {
        "colab": {
          "base_uri": "https://localhost:8080/",
          "height": 457
        },
        "id": "zlsSyonvHMQU",
        "outputId": "36dbc47e-c51e-4dcd-f993-4093681208b5"
      },
      "source": [
        "pred=model.predict(X_test)\n",
        "df=pd.DataFrame({'Actual':Y_test,'Predicted':pred}) #Comparing actual with predicted data\n",
        "print(df)\n",
        "\n",
        "#plotting actual and predicted value into bar graph\n",
        "df.plot(kind=\"bar\", figsize=(8,5))\n",
        "plt.show()"
      ],
      "execution_count": 9,
      "outputs": [
        {
          "output_type": "stream",
          "text": [
            "   Actual  Predicted\n",
            "0      20  16.844722\n",
            "1      27  33.745575\n",
            "2      69  75.500624\n",
            "3      30  26.786400\n",
            "4      62  60.588106\n",
            "5      35  39.710582\n",
            "6      24  20.821393\n"
          ],
          "name": "stdout"
        },
        {
          "output_type": "display_data",
          "data": {
            "image/png": "[encoded data removed]",
            "text/plain": [
              "<Figure size 576x360 with 1 Axes>"
            ]
          },
          "metadata": {
            "tags": [],
            "needs_background": "light"
          }
        }
      ]
    },
    {
      "cell_type": "markdown",
      "metadata": {
        "id": "v2YwI3mCjSfE"
      },
      "source": [
        "# Prediction for 9.25hrs per day"
      ]
    },
    {
      "cell_type": "code",
      "metadata": {
        "colab": {
          "base_uri": "https://localhost:8080/"
        },
        "id": "3WsBSXCLHQYP",
        "outputId": "62ad3897-d7b8-44e8-9d6c-0c43138e6e55"
      },
      "source": [
        "hours=9.25\n",
        "test=np.array([hours])\n",
        "test=test.reshape(-1,1)\n",
        "predicted=model.predict(test)\n",
        "print('No.of hours:',hours)\n",
        "print('Predicted_Score: ',predicted)"
      ],
      "execution_count": 10,
      "outputs": [
        {
          "output_type": "stream",
          "text": [
            "No.of hours: 9.25\n",
            "Predicted_Score:  [93.89272889]\n"
          ],
          "name": "stdout"
        }
      ]
    },
    {
      "cell_type": "markdown",
      "metadata": {
        "id": "SZ6nfCp5kdvb"
      },
      "source": [
        "# Evaluation "
      ]
    },
    {
      "cell_type": "code",
      "metadata": {
        "colab": {
          "base_uri": "https://localhost:8080/"
        },
        "id": "elOxgr-9HUHN",
        "outputId": "a3f79c40-c91d-4a70-cc11-c41592c33c93"
      },
      "source": [
        "from sklearn.metrics import mean_absolute_error,mean_squared_error\n",
        "print('Mean Absolute Error ',mean_absolute_error(pred,Y_test))\n",
        "print('Mean Squared Error ',mean_squared_error(pred,Y_test))\n"
      ],
      "execution_count": 11,
      "outputs": [
        {
          "output_type": "stream",
          "text": [
            "Mean Absolute Error  4.130879918502482\n",
            "Mean Squared Error  20.33292367497996\n"
          ],
          "name": "stdout"
        }
      ]
    }
  ]
}